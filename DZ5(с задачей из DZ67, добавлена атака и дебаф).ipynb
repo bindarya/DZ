{
 "cells": [
  {
   "cell_type": "code",
   "execution_count": 33,
   "metadata": {},
   "outputs": [],
   "source": [
    "class chuvak:\n",
    "        def __init__(self, health=5, immunity=3, solving=1, point=0, zamedlenie=0 ): \n",
    "\n",
    "            self.health = health #жизни\n",
    "            self.immunity = immunity #иммунитет, позволяющий пропустить злого преподавателя\n",
    "            self.solving = solving #победил преподавателя - решил его задачку\n",
    "            self.point = point #баллы за решения задач, чтобы на них покупать жизнь, если злой преп тебя покушает\n",
    "            self.zamedlenie = zamedlenie\n",
    "        \n",
    "        #решил задачку = добавил полуровня в способности решать и получил 5 очков, не решил -1 жизнь, \n",
    "        #но решать можешь только если level меньше твоей способности решать\n",
    "             \n",
    "        def decision(self):\n",
    "            if (self.health >= 0)&(self.zamedlenie == 0):\n",
    "                if level <= self.solving:\n",
    "                    if flajok == True:\n",
    "                        return chuvak(self.health, self.immunity, self.solving + 0.5, self.point + 5)\n",
    "                    else:\n",
    "                        return chuvak(self.health - 1,self.immunity, self.solving, self.point)\n",
    "                else:\n",
    "                    print('слишком высокий уровень для тебя')\n",
    "                    return(chuvak(self.health,self.immunity, self.solving, self.point))\n",
    "            elif self.zamedlenie != 0:\n",
    "                print('Тебя замедлили используй функцию decision_z ')\n",
    "            else:\n",
    "                print('Проиграл')\n",
    "            \n",
    "        #пропустить задчку, используя иммунитет, но нельзя ее не попробовать решить       \n",
    "        \n",
    "        def passing(self):\n",
    "            if (self.health >= 0):\n",
    "                return chuvak(self.health, self.immunity-1, self.solving, self.point)\n",
    "            else:\n",
    "                print('Проиграл')\n",
    "        #поменять баллы на иммунитет\n",
    "        \n",
    "        def change_point_to_immunity(self):\n",
    "            if (self.health >= 0):\n",
    "                im = int(input())\n",
    "                if im <= self.point//10:\n",
    "                    return chuvak(self.health, self.immunity+im, self.solving, self.point)\n",
    "                else:\n",
    "                    print('Не хватает')\n",
    "                    return (chuvak(self.health,self.immunity, self.solving, self.point))\n",
    "            else:\n",
    "                print('Проиграл')\n",
    "        #поменять баллы на жизни    \n",
    "            \n",
    "        def change_point_to_health(self):\n",
    "            if (self.health >= 0):\n",
    "                ht = int(input())\n",
    "                if ht <= self.point//5:\n",
    "                    return chuvak(self.health+ht, self.immunity, self.solving, self.point)\n",
    "                else:\n",
    "                    print('Не хватает')\n",
    "                    return (chuvak(self.health,self.immunity, self.solving, self.point))\n",
    "            else:\n",
    "                print('Проиграл')\n",
    "        #когда сломался и жизнь боль\n",
    "        \n",
    "        def ne_smog(self):\n",
    "            print('Не справился и сдался, но не отчаивайся когда-нибудь и на твоей улице рассыпится грузовик с пряниками')\n",
    "            return (chuvak(self.health-200000,self.immunity-200000, self.solving-200000, self.point-200000))\n",
    "        \n",
    "        \n",
    "        \n",
    "        \n",
    "        \n",
    "        \n",
    "        \n",
    "        \n",
    "        \n",
    "        def state(self):\n",
    "            print(self.health,self.immunity, self.solving, self.point)\n",
    "        \n",
    "        #self атакует other,уменьшаем здоровье у other, отнимаем 3 очка\n",
    "        def ataka(self, other):\n",
    "            self.point = self.point - 3\n",
    "            other.health = other.health - 1\n",
    "            return (chuvak(self), chuvak(other))\n",
    "        #функция замедления\n",
    "        def zamedlit(self, other):\n",
    "            self.point = self.point - 2\n",
    "            other.zamedlenie = other.zamedlenie + 2\n",
    "            \n",
    "        \n",
    "        \n",
    "        #функция замедления заставляет юзать вместо decision  - decision_z\n",
    "        def decision_z(self):\n",
    "                if (self.health >= 0):\n",
    "                    if level <= self.solving:\n",
    "                        if flajok == True:\n",
    "                            return chuvak(self.health, self.immunity, self.solving + 0.5, self.point + 3, self.zamedlenie - 1)\n",
    "                        else:\n",
    "                            return chuvak(self.health - 1,self.immunity, self.solving, self.point, self.zamedlenie - 1)\n",
    "                    else:\n",
    "                        print('слишком высокий уровень для тебя')\n",
    "                        return(chuvak(self.health,self.immunity, self.solving, self.point))\n",
    "                else:\n",
    "                    print('Проиграл')\n",
    "            "
   ]
  },
  {
   "cell_type": "code",
   "execution_count": 20,
   "metadata": {},
   "outputs": [
    {
     "name": "stdout",
     "output_type": "stream",
     "text": [
      "Проиграл\n"
     ]
    }
   ],
   "source": [
    "#Если что то стало отрицательным то дальше играть не получитяс\n",
    "Pete = chuvak(health=-1, immunity=0, solving=0, point=0)\n",
    "Pete.decision()"
   ]
  },
  {
   "cell_type": "markdown",
   "metadata": {},
   "source": [
    "Посмотрим как работает замедление, по факту тот кто использовал замедление отдает 2 балла, а тот кого замедлили, должен два раза решить задачу за 3 балла вместо 5."
   ]
  },
  {
   "cell_type": "code",
   "execution_count": 27,
   "metadata": {},
   "outputs": [
    {
     "name": "stdout",
     "output_type": "stream",
     "text": [
      "5 3 1 0\n",
      "5 3 1 0\n"
     ]
    }
   ],
   "source": [
    "Pl1 = chuvak()\n",
    "Pl2 = chuvak()\n",
    "Pl1.state()\n",
    "Pl2.state()\n",
    "Pl1.zamedlit(Pl2)"
   ]
  },
  {
   "cell_type": "code",
   "execution_count": 28,
   "metadata": {},
   "outputs": [
    {
     "name": "stdout",
     "output_type": "stream",
     "text": [
      "Тебя замедлили используй функцию decision_z \n",
      "5 3 1 0\n"
     ]
    }
   ],
   "source": [
    "\n",
    "\n",
    "Pl2.decision()\n",
    "Pl2.state()"
   ]
  },
  {
   "cell_type": "code",
   "execution_count": 29,
   "metadata": {},
   "outputs": [
    {
     "name": "stdout",
     "output_type": "stream",
     "text": [
      "Напиши произведение чисел a и b\n",
      "35\n"
     ]
    }
   ],
   "source": [
    "level = 1\n",
    "a = 5\n",
    "b = 7\n",
    "print('Напиши произведение чисел a и b')\n",
    "c = int(input())\n",
    "if a*b == c:\n",
    "    flajok = True\n",
    "else:\n",
    "    flajok = False\n",
    "    \n",
    "Pl2 = Pl2.decision_z()\n"
   ]
  },
  {
   "cell_type": "code",
   "execution_count": 30,
   "metadata": {},
   "outputs": [
    {
     "name": "stdout",
     "output_type": "stream",
     "text": [
      "Тебя замедлили используй функцию decision_z \n",
      "5 3 1.5 3\n"
     ]
    }
   ],
   "source": [
    "\n",
    "Pl2.decision()\n",
    "Pl2.state()"
   ]
  },
  {
   "cell_type": "code",
   "execution_count": 31,
   "metadata": {},
   "outputs": [
    {
     "name": "stdout",
     "output_type": "stream",
     "text": [
      "Напиши произведение чисел a и b\n",
      "35\n"
     ]
    }
   ],
   "source": [
    "level = 1\n",
    "a = 5\n",
    "b = 7\n",
    "print('Напиши произведение чисел a и b')\n",
    "c = int(input())\n",
    "if a*b == c:\n",
    "    flajok = True\n",
    "else:\n",
    "    flajok = False\n",
    "    \n",
    "Pl2 = Pl2.decision_z()"
   ]
  },
  {
   "cell_type": "code",
   "execution_count": 32,
   "metadata": {},
   "outputs": [
    {
     "name": "stdout",
     "output_type": "stream",
     "text": [
      "5 3 2.0 6\n"
     ]
    }
   ],
   "source": [
    "Pl2.state()"
   ]
  },
  {
   "cell_type": "markdown",
   "metadata": {},
   "source": [
    "Посмотрим как работает атака, берет 3 point у атакуещего, отбирает 1 жизнь у атакуемого"
   ]
  },
  {
   "cell_type": "code",
   "execution_count": 25,
   "metadata": {},
   "outputs": [
    {
     "name": "stdout",
     "output_type": "stream",
     "text": [
      "Состояние до атаки\n",
      "5 3 1 0\n",
      "5 3 1 0\n",
      "Состояние после атаки\n",
      "5 3 1 -3\n",
      "4 3 1 0\n"
     ]
    }
   ],
   "source": [
    "Pl1 = chuvak()\n",
    "Pl2 = chuvak()\n",
    "print('Состояние до атаки')\n",
    "Pl1.state()\n",
    "Pl2.state()\n",
    "Pl1.ataka(Pl2)\n",
    "print('Состояние после атаки')\n",
    "Pl1.state()\n",
    "Pl2.state()"
   ]
  },
  {
   "cell_type": "markdown",
   "metadata": {},
   "source": [
    "Рассмотрим что происходит когда решаешь задачку\n",
    "Ниже в одном случае задача слишком высокого уровня, в другом, решена неверна, в последнем решена верно"
   ]
  },
  {
   "cell_type": "code",
   "execution_count": 109,
   "metadata": {},
   "outputs": [
    {
     "name": "stdout",
     "output_type": "stream",
     "text": [
      "Напиши произведение чисел a и b\n",
      "5\n",
      "слишком высокий уровень для тебя\n",
      "1 5 0\n"
     ]
    }
   ],
   "source": [
    "\n",
    "level = 5\n",
    "a = 5\n",
    "b = 7\n",
    "print('Напиши произведение чисел a и b')\n",
    "c = int(input())\n",
    "if a*b == c:\n",
    "    flajok = True\n",
    "else:\n",
    "    flajok = False\n",
    "Pete = chuvak()\n",
    "Pete = Pete.decision()\n",
    "print(Pete.solving, Pete.health, Pete.point)\n"
   ]
  },
  {
   "cell_type": "code",
   "execution_count": 111,
   "metadata": {},
   "outputs": [
    {
     "name": "stdout",
     "output_type": "stream",
     "text": [
      "Напиши произведение чисел a и b\n",
      "30\n",
      "1 4 0\n"
     ]
    }
   ],
   "source": [
    "\n",
    "level = 1\n",
    "a = 5\n",
    "b = 7\n",
    "print('Напиши произведение чисел a и b')\n",
    "c = int(input())\n",
    "if a*b == c:\n",
    "    flajok = True\n",
    "else:\n",
    "    flajok = False\n",
    "Pete = chuvak()\n",
    "Pete = Pete.decision()\n",
    "print(Pete.solving, Pete.health, Pete.point)"
   ]
  },
  {
   "cell_type": "code",
   "execution_count": 113,
   "metadata": {},
   "outputs": [
    {
     "name": "stdout",
     "output_type": "stream",
     "text": [
      "Напиши произведение чисел a и b\n",
      "35\n",
      "1.5 5 5\n"
     ]
    }
   ],
   "source": [
    "\n",
    "level = 1\n",
    "a = 5\n",
    "b = 7\n",
    "print('Напиши произведение чисел a и b')\n",
    "c = int(input())\n",
    "if a*b == c:\n",
    "    flajok = True\n",
    "else:\n",
    "    flajok = False\n",
    "Pete = chuvak()\n",
    "Pete = Pete.decision()\n",
    "print(Pete.solving, Pete.health, Pete.point)"
   ]
  },
  {
   "cell_type": "markdown",
   "metadata": {},
   "source": [
    "Ниже пробуешь решить, но не получается и используем пропуск."
   ]
  },
  {
   "cell_type": "code",
   "execution_count": 116,
   "metadata": {},
   "outputs": [
    {
     "name": "stdout",
     "output_type": "stream",
     "text": [
      "Напиши произведение чисел a и b\n",
      "30\n",
      "1 4 0\n"
     ]
    }
   ],
   "source": [
    "\n",
    "level = 1\n",
    "a = 5\n",
    "b = 7\n",
    "print('Напиши произведение чисел a и b')\n",
    "c = int(input())\n",
    "if a*b == c:\n",
    "    flajok = True\n",
    "else:\n",
    "    flajok = False\n",
    "Pete = chuvak()\n",
    "Pete = Pete.decision()\n",
    "print(Pete.solving, Pete.health, Pete.point)"
   ]
  },
  {
   "cell_type": "code",
   "execution_count": 117,
   "metadata": {},
   "outputs": [
    {
     "name": "stdout",
     "output_type": "stream",
     "text": [
      "2\n"
     ]
    }
   ],
   "source": [
    "Pete = Pete.passing()\n",
    "print(Pete.immunity)"
   ]
  },
  {
   "cell_type": "markdown",
   "metadata": {},
   "source": [
    "Тут меняем баллы на иммунитет, если хватило, и если не хватило"
   ]
  },
  {
   "cell_type": "code",
   "execution_count": 118,
   "metadata": {},
   "outputs": [
    {
     "name": "stdout",
     "output_type": "stream",
     "text": [
      "1\n",
      "4\n"
     ]
    }
   ],
   "source": [
    "Pete = chuvak(point = 10)\n",
    "Pete = Pete.change_point_to_immunity()\n",
    "print(Pete.immunity)"
   ]
  },
  {
   "cell_type": "code",
   "execution_count": 119,
   "metadata": {},
   "outputs": [
    {
     "name": "stdout",
     "output_type": "stream",
     "text": [
      "1\n",
      "Не хватает\n",
      "3\n"
     ]
    }
   ],
   "source": [
    "Pete = chuvak(point = 5)\n",
    "Pete = Pete.change_point_to_immunity()\n",
    "print(Pete.immunity)"
   ]
  },
  {
   "cell_type": "markdown",
   "metadata": {},
   "source": [
    "Тут меняем баллы на жизни, в одном случае хватило вдругом нет"
   ]
  },
  {
   "cell_type": "code",
   "execution_count": 120,
   "metadata": {},
   "outputs": [
    {
     "name": "stdout",
     "output_type": "stream",
     "text": [
      "1\n",
      "6\n"
     ]
    }
   ],
   "source": [
    "Pete = chuvak(point = 10)\n",
    "Pete = Pete.change_point_to_health()\n",
    "print(Pete.health)"
   ]
  },
  {
   "cell_type": "code",
   "execution_count": 122,
   "metadata": {},
   "outputs": [
    {
     "name": "stdout",
     "output_type": "stream",
     "text": [
      "7\n",
      "Не хватает\n",
      "5\n"
     ]
    }
   ],
   "source": [
    "Pete = chuvak(point = 10)\n",
    "Pete = Pete.change_point_to_health()\n",
    "print(Pete.health)"
   ]
  },
  {
   "cell_type": "markdown",
   "metadata": {},
   "source": [
    "Тут нас все достало и мы решили завершить все."
   ]
  },
  {
   "cell_type": "code",
   "execution_count": 123,
   "metadata": {},
   "outputs": [
    {
     "name": "stdout",
     "output_type": "stream",
     "text": [
      "Не справился и сдался, но не отчаивайся когда-нибудь и на твоей улице рассыпится грузовик с пряниками\n",
      "-199999 -199995 -200000 -199997\n"
     ]
    }
   ],
   "source": [
    "Pete = chuvak()\n",
    "Pete = Pete.ne_smog()\n",
    "print(Pete.solving, Pete.health, Pete.point, Pete.immunity)"
   ]
  }
 ],
 "metadata": {
  "kernelspec": {
   "display_name": "Python 3",
   "language": "python",
   "name": "python3"
  },
  "language_info": {
   "codemirror_mode": {
    "name": "ipython",
    "version": 3
   },
   "file_extension": ".py",
   "mimetype": "text/x-python",
   "name": "python",
   "nbconvert_exporter": "python",
   "pygments_lexer": "ipython3",
   "version": "3.7.1"
  }
 },
 "nbformat": 4,
 "nbformat_minor": 2
}
