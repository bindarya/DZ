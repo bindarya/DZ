{
 "cells": [
  {
   "cell_type": "code",
   "execution_count": 1,
   "metadata": {},
   "outputs": [],
   "source": [
    "import pandas as pd\n",
    "import numpy as np\n",
    "import matplotlib.pyplot as plt\n",
    "import seaborn as sns"
   ]
  },
  {
   "cell_type": "code",
   "execution_count": 2,
   "metadata": {},
   "outputs": [],
   "source": [
    "data = pd.read_csv('flight_delays.csv')"
   ]
  },
  {
   "cell_type": "code",
   "execution_count": 3,
   "metadata": {},
   "outputs": [
    {
     "data": {
      "text/html": [
       "<div>\n",
       "<style scoped>\n",
       "    .dataframe tbody tr th:only-of-type {\n",
       "        vertical-align: middle;\n",
       "    }\n",
       "\n",
       "    .dataframe tbody tr th {\n",
       "        vertical-align: top;\n",
       "    }\n",
       "\n",
       "    .dataframe thead th {\n",
       "        text-align: right;\n",
       "    }\n",
       "</style>\n",
       "<table border=\"1\" class=\"dataframe\">\n",
       "  <thead>\n",
       "    <tr style=\"text-align: right;\">\n",
       "      <th></th>\n",
       "      <th>Month</th>\n",
       "      <th>DayofMonth</th>\n",
       "      <th>DayOfWeek</th>\n",
       "      <th>DepTime</th>\n",
       "      <th>UniqueCarrier</th>\n",
       "      <th>Origin</th>\n",
       "      <th>Dest</th>\n",
       "      <th>Distance</th>\n",
       "      <th>dep_delayed_15min</th>\n",
       "    </tr>\n",
       "  </thead>\n",
       "  <tbody>\n",
       "    <tr>\n",
       "      <th>0</th>\n",
       "      <td>c-8</td>\n",
       "      <td>c-21</td>\n",
       "      <td>c-7</td>\n",
       "      <td>1934</td>\n",
       "      <td>AA</td>\n",
       "      <td>ATL</td>\n",
       "      <td>DFW</td>\n",
       "      <td>732</td>\n",
       "      <td>N</td>\n",
       "    </tr>\n",
       "    <tr>\n",
       "      <th>1</th>\n",
       "      <td>c-4</td>\n",
       "      <td>c-20</td>\n",
       "      <td>c-3</td>\n",
       "      <td>1548</td>\n",
       "      <td>US</td>\n",
       "      <td>PIT</td>\n",
       "      <td>MCO</td>\n",
       "      <td>834</td>\n",
       "      <td>N</td>\n",
       "    </tr>\n",
       "    <tr>\n",
       "      <th>2</th>\n",
       "      <td>c-9</td>\n",
       "      <td>c-2</td>\n",
       "      <td>c-5</td>\n",
       "      <td>1422</td>\n",
       "      <td>XE</td>\n",
       "      <td>RDU</td>\n",
       "      <td>CLE</td>\n",
       "      <td>416</td>\n",
       "      <td>N</td>\n",
       "    </tr>\n",
       "    <tr>\n",
       "      <th>3</th>\n",
       "      <td>c-11</td>\n",
       "      <td>c-25</td>\n",
       "      <td>c-6</td>\n",
       "      <td>1015</td>\n",
       "      <td>OO</td>\n",
       "      <td>DEN</td>\n",
       "      <td>MEM</td>\n",
       "      <td>872</td>\n",
       "      <td>N</td>\n",
       "    </tr>\n",
       "    <tr>\n",
       "      <th>4</th>\n",
       "      <td>c-10</td>\n",
       "      <td>c-7</td>\n",
       "      <td>c-6</td>\n",
       "      <td>1828</td>\n",
       "      <td>WN</td>\n",
       "      <td>MDW</td>\n",
       "      <td>OMA</td>\n",
       "      <td>423</td>\n",
       "      <td>Y</td>\n",
       "    </tr>\n",
       "  </tbody>\n",
       "</table>\n",
       "</div>"
      ],
      "text/plain": [
       "  Month DayofMonth DayOfWeek  DepTime UniqueCarrier Origin Dest  Distance  \\\n",
       "0   c-8       c-21       c-7     1934            AA    ATL  DFW       732   \n",
       "1   c-4       c-20       c-3     1548            US    PIT  MCO       834   \n",
       "2   c-9        c-2       c-5     1422            XE    RDU  CLE       416   \n",
       "3  c-11       c-25       c-6     1015            OO    DEN  MEM       872   \n",
       "4  c-10        c-7       c-6     1828            WN    MDW  OMA       423   \n",
       "\n",
       "  dep_delayed_15min  \n",
       "0                 N  \n",
       "1                 N  \n",
       "2                 N  \n",
       "3                 N  \n",
       "4                 Y  "
      ]
     },
     "execution_count": 3,
     "metadata": {},
     "output_type": "execute_result"
    }
   ],
   "source": [
    "data.head()"
   ]
  },
  {
   "cell_type": "code",
   "execution_count": 4,
   "metadata": {},
   "outputs": [
    {
     "data": {
      "text/plain": [
       "(100000, 9)"
      ]
     },
     "execution_count": 4,
     "metadata": {},
     "output_type": "execute_result"
    }
   ],
   "source": [
    "data.shape"
   ]
  },
  {
   "cell_type": "markdown",
   "metadata": {},
   "source": [
    "Доля задержанных рейсов "
   ]
  },
  {
   "cell_type": "code",
   "execution_count": 4,
   "metadata": {},
   "outputs": [
    {
     "name": "stdout",
     "output_type": "stream",
     "text": [
      "Доля задержанных рейсов ко всем\n",
      "0.19044\n"
     ]
    }
   ],
   "source": [
    "YES = 0\n",
    "for i in range(100000):\n",
    "    if data['dep_delayed_15min'][i] == 'Y':\n",
    "        YES += 1\n",
    "print('Доля задержанных рейсов ко всем')\n",
    "print(YES/100000)"
   ]
  },
  {
   "cell_type": "code",
   "execution_count": 5,
   "metadata": {},
   "outputs": [],
   "source": [
    "delay = []\n",
    "for i in range(100000):\n",
    "    if data['dep_delayed_15min'][i] == 'Y':\n",
    "        delay.append(1)\n",
    "    else:\n",
    "        delay.append(0)\n",
    "data['delay'] = delay"
   ]
  },
  {
   "cell_type": "code",
   "execution_count": 6,
   "metadata": {},
   "outputs": [
    {
     "data": {
      "text/html": [
       "<div>\n",
       "<style scoped>\n",
       "    .dataframe tbody tr th:only-of-type {\n",
       "        vertical-align: middle;\n",
       "    }\n",
       "\n",
       "    .dataframe tbody tr th {\n",
       "        vertical-align: top;\n",
       "    }\n",
       "\n",
       "    .dataframe thead th {\n",
       "        text-align: right;\n",
       "    }\n",
       "</style>\n",
       "<table border=\"1\" class=\"dataframe\">\n",
       "  <thead>\n",
       "    <tr style=\"text-align: right;\">\n",
       "      <th></th>\n",
       "      <th>Month</th>\n",
       "      <th>DayofMonth</th>\n",
       "      <th>DayOfWeek</th>\n",
       "      <th>DepTime</th>\n",
       "      <th>UniqueCarrier</th>\n",
       "      <th>Origin</th>\n",
       "      <th>Dest</th>\n",
       "      <th>Distance</th>\n",
       "      <th>dep_delayed_15min</th>\n",
       "      <th>delay</th>\n",
       "    </tr>\n",
       "  </thead>\n",
       "  <tbody>\n",
       "    <tr>\n",
       "      <th>0</th>\n",
       "      <td>c-8</td>\n",
       "      <td>c-21</td>\n",
       "      <td>c-7</td>\n",
       "      <td>1934</td>\n",
       "      <td>AA</td>\n",
       "      <td>ATL</td>\n",
       "      <td>DFW</td>\n",
       "      <td>732</td>\n",
       "      <td>N</td>\n",
       "      <td>0</td>\n",
       "    </tr>\n",
       "    <tr>\n",
       "      <th>1</th>\n",
       "      <td>c-4</td>\n",
       "      <td>c-20</td>\n",
       "      <td>c-3</td>\n",
       "      <td>1548</td>\n",
       "      <td>US</td>\n",
       "      <td>PIT</td>\n",
       "      <td>MCO</td>\n",
       "      <td>834</td>\n",
       "      <td>N</td>\n",
       "      <td>0</td>\n",
       "    </tr>\n",
       "    <tr>\n",
       "      <th>2</th>\n",
       "      <td>c-9</td>\n",
       "      <td>c-2</td>\n",
       "      <td>c-5</td>\n",
       "      <td>1422</td>\n",
       "      <td>XE</td>\n",
       "      <td>RDU</td>\n",
       "      <td>CLE</td>\n",
       "      <td>416</td>\n",
       "      <td>N</td>\n",
       "      <td>0</td>\n",
       "    </tr>\n",
       "    <tr>\n",
       "      <th>3</th>\n",
       "      <td>c-11</td>\n",
       "      <td>c-25</td>\n",
       "      <td>c-6</td>\n",
       "      <td>1015</td>\n",
       "      <td>OO</td>\n",
       "      <td>DEN</td>\n",
       "      <td>MEM</td>\n",
       "      <td>872</td>\n",
       "      <td>N</td>\n",
       "      <td>0</td>\n",
       "    </tr>\n",
       "    <tr>\n",
       "      <th>4</th>\n",
       "      <td>c-10</td>\n",
       "      <td>c-7</td>\n",
       "      <td>c-6</td>\n",
       "      <td>1828</td>\n",
       "      <td>WN</td>\n",
       "      <td>MDW</td>\n",
       "      <td>OMA</td>\n",
       "      <td>423</td>\n",
       "      <td>Y</td>\n",
       "      <td>1</td>\n",
       "    </tr>\n",
       "  </tbody>\n",
       "</table>\n",
       "</div>"
      ],
      "text/plain": [
       "  Month DayofMonth DayOfWeek  DepTime UniqueCarrier Origin Dest  Distance  \\\n",
       "0   c-8       c-21       c-7     1934            AA    ATL  DFW       732   \n",
       "1   c-4       c-20       c-3     1548            US    PIT  MCO       834   \n",
       "2   c-9        c-2       c-5     1422            XE    RDU  CLE       416   \n",
       "3  c-11       c-25       c-6     1015            OO    DEN  MEM       872   \n",
       "4  c-10        c-7       c-6     1828            WN    MDW  OMA       423   \n",
       "\n",
       "  dep_delayed_15min  delay  \n",
       "0                 N      0  \n",
       "1                 N      0  \n",
       "2                 N      0  \n",
       "3                 N      0  \n",
       "4                 Y      1  "
      ]
     },
     "execution_count": 6,
     "metadata": {},
     "output_type": "execute_result"
    }
   ],
   "source": [
    "data.head()"
   ]
  },
  {
   "cell_type": "code",
   "execution_count": 7,
   "metadata": {},
   "outputs": [],
   "source": [
    "delay = list(data['delay'])\n",
    "dest = set(data['Dest'])\n",
    "dest_set = list(dest)\n",
    "destination = list(data['Dest'])"
   ]
  },
  {
   "cell_type": "code",
   "execution_count": 8,
   "metadata": {},
   "outputs": [],
   "source": [
    "delay_destination = []\n",
    "s = 0\n",
    "for d in dest_set:\n",
    "    for i in range(100000):\n",
    "        if destination[i] == d:\n",
    "            s = s + delay[i]\n",
    "    delay_destination.append(s)\n",
    "    s = 0"
   ]
  },
  {
   "cell_type": "code",
   "execution_count": 9,
   "metadata": {},
   "outputs": [],
   "source": [
    "A = np.array(delay_destination)"
   ]
  },
  {
   "cell_type": "code",
   "execution_count": 10,
   "metadata": {},
   "outputs": [
    {
     "name": "stdout",
     "output_type": "stream",
     "text": [
      "[   0    0    0    0    0    0    0    0    0    0    0    0    0    1\n",
      "    1    1    1    1    1    1    1    1    1    1    1    1    1    1\n",
      "    1    1    1    2    2    2    2    2    2    2    2    2    2    2\n",
      "    2    3    3    3    3    3    3    3    3    3    3    3    3    3\n",
      "    3    3    3    4    4    4    4    4    4    4    4    4    4    4\n",
      "    4    4    4    4    5    5    5    5    5    5    5    5    5    5\n",
      "    5    5    5    5    5    5    5    5    6    6    6    6    6    6\n",
      "    6    6    6    6    6    6    7    7    7    7    7    7    7    7\n",
      "    8    8    8    8    8    9    9    9    9    9    9    9    9    9\n",
      "   10   10   10   10   10   11   11   11   11   11   11   11   12   12\n",
      "   12   12   12   12   13   13   13   13   13   14   14   14   14   14\n",
      "   15   15   15   16   16   17   17   17   18   18   18   18   19   19\n",
      "   20   21   21   21   21   21   21   21   22   22   22   23   23   24\n",
      "   24   25   26   26   26   27   27   30   31   31   31   32   34   34\n",
      "   36   38   39   40   40   40   41   43   43   44   44   46   47   47\n",
      "   47   47   49   50   50   52   53   53   58   60   60   61   63   66\n",
      "   66   69   69   70   70   71   74   81   83   83   85   87   91   94\n",
      "   95   96  102  104  106  108  110  111  116  121  123  140  155  158\n",
      "  168  170  172  173  173  178  190  198  199  214  221  226  231  242\n",
      "  256  274  277  285  287  291  308  318  325  342  355  364  379  397\n",
      "  409  457  464  520  525  584  656 1072 1281]\n"
     ]
    }
   ],
   "source": [
    "for k in range(1,len (A)):\n",
    "    i = k\n",
    "    while i > 0 and A[i-1] > A[i]:\n",
    "        tmp = A[i]\n",
    "        A[i] = A[i-1]\n",
    "        A[i-1] = tmp\n",
    "        i = i - 1\n",
    "print(A)"
   ]
  },
  {
   "cell_type": "code",
   "execution_count": 12,
   "metadata": {},
   "outputs": [
    {
     "name": "stdout",
     "output_type": "stream",
     "text": [
      "[3, 3, 11, 9, 5, 21, 18, 38, 173, 199, 5, 1, 5, 285, 102, 108, 50, 2, 47, 25, 2, 520, 170, 12, 12, 44, 23, 3, 87, 3, 464, 69, 9, 656, 5, 4, 21, 0, 11, 0, 7, 0, 4, 7, 5, 214, 18, 1, 6, 19, 1, 0, 9, 46, 36, 287, 9, 7, 12, 91, 2, 6, 30, 12, 274, 9, 34, 178, 2, 3, 1, 5, 8, 15, 168, 3, 6, 11, 21, 221, 525, 1072, 21, 14, 9, 111, 17, 13, 4, 26, 21, 291, 53, 27, 3, 7, 1, 83, 41, 13, 7, 11, 5, 158, 8, 2, 21, 1, 198, 4, 3, 342, 4, 52, 3, 116, 4, 4, 256, 3, 94, 0, 4, 24, 21, 26, 85, 69, 34, 22, 15, 1, 10, 0, 409, 40, 0, 70, 4, 15, 32, 6, 10, 318, 6, 44, 9, 6, 226, 95, 155, 0, 1, 190, 355, 19, 5, 6, 3, 0, 10, 325, 20, 39, 12, 8, 10, 2, 17, 121, 308, 43, 6, 379, 1, 81, 1, 4, 47, 22, 40, 70, 2, 11, 17, 83, 6, 66, 9, 5, 584, 31, 0, 397, 13, 173, 16, 3, 6, 18, 47, 6, 43, 5, 5, 16, 13, 3, 11, 1, 66, 0, 4, 5, 61, 1, 31, 58, 231, 0, 5, 7, 26, 14, 1, 4, 10, 1, 14, 8, 63, 5, 12, 1, 364, 9, 4, 0, 18, 106, 4, 7, 140, 1, 1, 1281, 24, 5, 172, 71, 2, 5, 3, 2, 5, 74, 60, 53, 96, 110, 23, 60, 14, 50, 1, 4, 11, 3, 40, 5, 14, 3, 2, 457, 2, 104, 31, 6, 27, 8, 123, 242, 49, 47, 22, 13, 277, 7, 2]\n"
     ]
    }
   ],
   "source": [
    "print(delay_destination)"
   ]
  },
  {
   "cell_type": "code",
   "execution_count": 13,
   "metadata": {},
   "outputs": [],
   "source": [
    "index = []\n",
    "search = [1281, 1072, 656, 584, 525]\n",
    "for j in search:\n",
    "    for i in range(len(delay_destination)):\n",
    "        if delay_destination[i] == j:\n",
    "            index.append(i)"
   ]
  },
  {
   "cell_type": "code",
   "execution_count": 14,
   "metadata": {},
   "outputs": [
    {
     "data": {
      "text/plain": [
       "[245, 81, 33, 190, 80]"
      ]
     },
     "execution_count": 14,
     "metadata": {},
     "output_type": "execute_result"
    }
   ],
   "source": [
    "index"
   ]
  },
  {
   "cell_type": "markdown",
   "metadata": {},
   "source": [
    "Топ 5 напрвалений, для которых чаще всего происходят задержки'"
   ]
  },
  {
   "cell_type": "code",
   "execution_count": 15,
   "metadata": {
    "scrolled": true
   },
   "outputs": [
    {
     "name": "stdout",
     "output_type": "stream",
     "text": [
      "Топ 5 напрвалений, для которых чаще всего происходят задержки\n",
      "ATL\n",
      "ORD\n",
      "DFW\n",
      "EWR\n",
      "LAX\n"
     ]
    }
   ],
   "source": [
    "print('Топ 5 напрвалений, для которых чаще всего происходят задержки')\n",
    "for i in index:\n",
    "    print(dest_set[i])"
   ]
  },
  {
   "cell_type": "code",
   "execution_count": 16,
   "metadata": {},
   "outputs": [],
   "source": [
    "delay = list(data['delay'])\n",
    "UC = set(data['UniqueCarrier'])\n",
    "UC_set = list(UC)\n",
    "UniqueCarrier = list(data['UniqueCarrier'])"
   ]
  },
  {
   "cell_type": "code",
   "execution_count": 17,
   "metadata": {},
   "outputs": [],
   "source": [
    "delay_UC = []\n",
    "s = 0\n",
    "for d in UC_set:\n",
    "    for i in range(100000):\n",
    "        if UniqueCarrier[i] == d:\n",
    "            s = s + delay[i]\n",
    "    delay_UC.append(s)\n",
    "    s = 0"
   ]
  },
  {
   "cell_type": "code",
   "execution_count": 18,
   "metadata": {},
   "outputs": [],
   "source": [
    "A = np.array(delay_UC)"
   ]
  },
  {
   "cell_type": "code",
   "execution_count": 19,
   "metadata": {},
   "outputs": [
    {
     "name": "stdout",
     "output_type": "stream",
     "text": [
      "[  18   33   64  156  156  196  393  478  541  736  788  808 1026 1075\n",
      " 1082 1085 1277 1322 1373 1448 1770 3219]\n"
     ]
    }
   ],
   "source": [
    "for k in range(1,len (A)):\n",
    "    i = k\n",
    "    while i > 0 and A[i-1] > A[i]:\n",
    "        tmp = A[i]\n",
    "        A[i] = A[i-1]\n",
    "        A[i-1] = tmp\n",
    "        i = i - 1\n",
    "print(A)"
   ]
  },
  {
   "cell_type": "code",
   "execution_count": 20,
   "metadata": {},
   "outputs": [
    {
     "name": "stdout",
     "output_type": "stream",
     "text": [
      "[33, 1085, 64, 3219, 196, 1770, 1026, 541, 1448, 156, 1075, 1277, 393, 18, 736, 1373, 156, 808, 788, 478, 1082, 1322]\n"
     ]
    }
   ],
   "source": [
    "print(delay_UC)"
   ]
  },
  {
   "cell_type": "code",
   "execution_count": 21,
   "metadata": {},
   "outputs": [],
   "source": [
    "index = []\n",
    "search = [18,  33,   64,  156, 196,  393,  478,  541,  736]\n",
    "for j in search:\n",
    "    for i in range(len(delay_UC)):\n",
    "        if delay_UC[i] == j:\n",
    "            index.append(i)"
   ]
  },
  {
   "cell_type": "code",
   "execution_count": 22,
   "metadata": {},
   "outputs": [
    {
     "data": {
      "text/plain": [
       "[13, 0, 2, 9, 16, 4, 12, 19, 7, 14]"
      ]
     },
     "execution_count": 22,
     "metadata": {},
     "output_type": "execute_result"
    }
   ],
   "source": [
    "index"
   ]
  },
  {
   "cell_type": "markdown",
   "metadata": {},
   "source": [
    "Топ 10 самых хороших перевозчиков, которые реже всего задерживают свои рейсы"
   ]
  },
  {
   "cell_type": "code",
   "execution_count": 23,
   "metadata": {},
   "outputs": [
    {
     "name": "stdout",
     "output_type": "stream",
     "text": [
      "Топ 10 самых хороших перевозчиков, которые реже всего задерживают свои рейсы\n",
      "AQ\n",
      "HA\n",
      "TZ\n",
      "F9\n",
      "DH\n",
      "HP\n",
      "B6\n",
      "YV\n",
      "AS\n",
      "FL\n"
     ]
    }
   ],
   "source": [
    "print('Топ 10 самых хороших перевозчиков, которые реже всего задерживают свои рейсы')\n",
    "for i in index:\n",
    "    print(UC_set[i])"
   ]
  },
  {
   "cell_type": "code",
   "execution_count": 26,
   "metadata": {},
   "outputs": [],
   "source": [
    "delay = list(data['delay'])\n",
    "origin_s = set(data['Origin'])\n",
    "origin_set = list(origin_s)\n",
    "origin = list(data['Origin'])"
   ]
  },
  {
   "cell_type": "code",
   "execution_count": 27,
   "metadata": {},
   "outputs": [],
   "source": [
    "delay_origin = []\n",
    "s = 0\n",
    "for d in origin_set:\n",
    "    for i in range(100000):\n",
    "        if origin[i] == d:\n",
    "            s = s + delay[i]\n",
    "    delay_origin.append(s)\n",
    "    s = 0"
   ]
  },
  {
   "cell_type": "code",
   "execution_count": 28,
   "metadata": {},
   "outputs": [
    {
     "name": "stdout",
     "output_type": "stream",
     "text": [
      "[   0    0    7    9    3   22   21   13  148  211    1    1    2  282\n",
      "   95   35   71   33    1   16    4  546   14  130   20   10   27    3\n",
      "   59    1  491   46   10  902    8    3   10    7    3    1    2    0\n",
      "    3    3    0  181   17    5    2   22    2    1   10   53    4  362\n",
      "   28    4   12   79    1    6   26    6  304    3   35  152    1    7\n",
      "    0    5   12   12  154    3    2   16   19  190  552 1254   38    7\n",
      "    6   13   85   13    1   17   21  401   49    9    6    6    2   80\n",
      "   30    2   10    9    4  190    6    9   10    0  192    2    0  322\n",
      "    3   33    0  104    6    0  288    1  118    0    2   17   91   18\n",
      "    6   49   30   17   14    1    6    2  492   28    0   64    0   28\n",
      "   11   13    9  326    6   36    5    8  343  109  138    2    0  160\n",
      "  388    1   10    3    3    0    8  360   18   43   12    7    2    2\n",
      "    6  332   86   31    2  360    0   52    2    3   25    9   36   50\n",
      "   10    1    8   58    7   57    4    8  538   28    0  350   14  149\n",
      "    9    5    1    2   15   45   13   39    3    6    9    6    0    6\n",
      "    2   45    2    4    2   41    6   21   56  213   15    4   17    1\n",
      "    1   16    3   14   41    5    2   21    1  332    8    8    1   17\n",
      "   73    1    4  118    1    2 1506   24    1  207   53    2    9    1\n",
      "    1    4   78   54   52   67   32   78   70   23    1    1   21    2\n",
      "   11    2   41    3    8    2    0  575    0   71   21   16   29    2\n",
      "   36   16   34  202  105   10  284    9    0]\n",
      "[   0    0    0    0    0    0    0    0    0    0    0    0    0    0\n",
      "    0    0    0    0    0    0    1    1    1    1    1    1    1    1\n",
      "    1    1    1    1    1    1    1    1    1    1    1    1    1    1\n",
      "    1    1    1    2    2    2    2    2    2    2    2    2    2    2\n",
      "    2    2    2    2    2    2    2    2    2    2    2    2    2    2\n",
      "    2    3    3    3    3    3    3    3    3    3    3    3    3    3\n",
      "    3    3    4    4    4    4    4    4    4    4    4    5    5    5\n",
      "    5    5    6    6    6    6    6    6    6    6    6    6    6    6\n",
      "    6    6    6    7    7    7    7    7    7    8    8    8    8    8\n",
      "    8    8    8    9    9    9    9    9    9    9    9    9    9   10\n",
      "   10   10   10   10   10   10   10   10   11   11   12   12   12   12\n",
      "   13   13   13   13   13   14   14   14   14   15   15   16   16   16\n",
      "   16   16   17   17   17   17   17   17   18   18   19   20   21   21\n",
      "   21   21   21   21   22   22   23   24   25   26   27   28   28   28\n",
      "   28   29   30   30   31   32   33   33   34   35   35   36   36   36\n",
      "   38   39   41   41   41   43   45   45   46   49   49   50   52   52\n",
      "   53   53   54   56   57   58   59   64   67   70   71   71   73   78\n",
      "   78   79   80   85   86   91   95  104  105  109  118  118  130  138\n",
      "  148  149  152  154  160  181  190  190  192  202  207  211  213  282\n",
      "  284  288  304  322  326  332  332  343  350  360  360  362  388  401\n",
      "  491  492  538  546  552  575  902 1254 1506]\n"
     ]
    }
   ],
   "source": [
    "A = np.array(delay_origin)\n",
    "print(A)\n",
    "for k in range(1,len (A)):\n",
    "    i = k\n",
    "    while i > 0 and A[i-1] > A[i]:\n",
    "        tmp = A[i]\n",
    "        A[i] = A[i-1]\n",
    "        A[i-1] = tmp\n",
    "        i = i - 1\n",
    "print(A)"
   ]
  },
  {
   "cell_type": "code",
   "execution_count": 40,
   "metadata": {},
   "outputs": [
    {
     "name": "stdout",
     "output_type": "stream",
     "text": [
      "[0, 0, 7, 9, 3, 22, 21, 13, 148, 211, 1, 1, 2, 282, 95, 35, 71, 33, 1, 16, 4, 546, 14, 130, 20, 10, 27, 3, 59, 1, 491, 46, 10, 902, 8, 3, 10, 7, 3, 1, 2, 0, 3, 3, 0, 181, 17, 5, 2, 22, 2, 1, 10, 53, 4, 362, 28, 4, 12, 79, 1, 6, 26, 6, 304, 3, 35, 152, 1, 7, 0, 5, 12, 12, 154, 3, 2, 16, 19, 190, 552, 1254, 38, 7, 6, 13, 85, 13, 1, 17, 21, 401, 49, 9, 6, 6, 2, 80, 30, 2, 10, 9, 4, 190, 6, 9, 10, 0, 192, 2, 0, 322, 3, 33, 0, 104, 6, 0, 288, 1, 118, 0, 2, 17, 91, 18, 6, 49, 30, 17, 14, 1, 6, 2, 492, 28, 0, 64, 0, 28, 11, 13, 9, 326, 6, 36, 5, 8, 343, 109, 138, 2, 0, 160, 388, 1, 10, 3, 3, 0, 8, 360, 18, 43, 12, 7, 2, 2, 6, 332, 86, 31, 2, 360, 0, 52, 2, 3, 25, 9, 36, 50, 10, 1, 8, 58, 7, 57, 4, 8, 538, 28, 0, 350, 14, 149, 9, 5, 1, 2, 15, 45, 13, 39, 3, 6, 9, 6, 0, 6, 2, 45, 2, 4, 2, 41, 6, 21, 56, 213, 15, 4, 17, 1, 1, 16, 3, 14, 41, 5, 2, 21, 1, 332, 8, 8, 1, 17, 73, 1, 4, 118, 1, 2, 1506, 24, 1, 207, 53, 2, 9, 1, 1, 4, 78, 54, 52, 67, 32, 78, 70, 23, 1, 1, 21, 2, 11, 2, 41, 3, 8, 2, 0, 575, 0, 71, 21, 16, 29, 2, 36, 16, 34, 202, 105, 10, 284, 9, 0]\n"
     ]
    }
   ],
   "source": [
    "print(delay_origin)"
   ]
  },
  {
   "cell_type": "code",
   "execution_count": 36,
   "metadata": {},
   "outputs": [
    {
     "data": {
      "text/plain": [
       "array([1506, 1254,  902,  575,  552,  546,  538,  492,  491,  401])"
      ]
     },
     "execution_count": 36,
     "metadata": {},
     "output_type": "execute_result"
    }
   ],
   "source": [
    "A[279:289][::-1]"
   ]
  },
  {
   "cell_type": "code",
   "execution_count": 37,
   "metadata": {},
   "outputs": [
    {
     "data": {
      "text/plain": [
       "array([ 401,  491,  492,  538,  546,  552,  575,  902, 1254, 1506])"
      ]
     },
     "execution_count": 37,
     "metadata": {},
     "output_type": "execute_result"
    }
   ],
   "source": [
    "A[279:289]"
   ]
  },
  {
   "cell_type": "code",
   "execution_count": 38,
   "metadata": {},
   "outputs": [
    {
     "name": "stdout",
     "output_type": "stream",
     "text": [
      "[244, 81, 33, 273, 80, 21, 190, 134, 30, 91]\n"
     ]
    }
   ],
   "source": [
    "index = []\n",
    "search = A[279:289][::-1]\n",
    "for j in search:\n",
    "    for i in range(len(delay_origin)):\n",
    "        if delay_origin[i] == j:\n",
    "            index.append(i)\n",
    "print(index)"
   ]
  },
  {
   "cell_type": "markdown",
   "metadata": {},
   "source": [
    "Топ 10 самых безответственных аэропортов, в которых чаще всего происходят задержки"
   ]
  },
  {
   "cell_type": "code",
   "execution_count": 35,
   "metadata": {},
   "outputs": [
    {
     "name": "stdout",
     "output_type": "stream",
     "text": [
      "Топ 10 самых безответственных аэропортов, в которых чаще всего происходят задержки\n",
      "FLO\n",
      "ORD\n",
      "DFW\n",
      "DEN\n",
      "LAX\n",
      "LAS\n",
      "EWR\n",
      "IAH\n",
      "PHX\n",
      "DTW\n"
     ]
    }
   ],
   "source": [
    "print('Топ 10 самых безответственных аэропортов, в которых чаще всего происходят задержки')\n",
    "for i in index:\n",
    "    print(dest_set[i])"
   ]
  },
  {
   "cell_type": "code",
   "execution_count": 41,
   "metadata": {},
   "outputs": [],
   "source": [
    "month = []\n",
    "a = 0\n",
    "for i in range(100000):\n",
    "        month.append(data['Month'].iloc[i][2:4])\n",
    "   \n",
    "data['month'] = month"
   ]
  },
  {
   "cell_type": "code",
   "execution_count": 42,
   "metadata": {},
   "outputs": [
    {
     "data": {
      "text/html": [
       "<div>\n",
       "<style scoped>\n",
       "    .dataframe tbody tr th:only-of-type {\n",
       "        vertical-align: middle;\n",
       "    }\n",
       "\n",
       "    .dataframe tbody tr th {\n",
       "        vertical-align: top;\n",
       "    }\n",
       "\n",
       "    .dataframe thead th {\n",
       "        text-align: right;\n",
       "    }\n",
       "</style>\n",
       "<table border=\"1\" class=\"dataframe\">\n",
       "  <thead>\n",
       "    <tr style=\"text-align: right;\">\n",
       "      <th></th>\n",
       "      <th>Month</th>\n",
       "      <th>DayofMonth</th>\n",
       "      <th>DayOfWeek</th>\n",
       "      <th>DepTime</th>\n",
       "      <th>UniqueCarrier</th>\n",
       "      <th>Origin</th>\n",
       "      <th>Dest</th>\n",
       "      <th>Distance</th>\n",
       "      <th>dep_delayed_15min</th>\n",
       "      <th>delay</th>\n",
       "      <th>month</th>\n",
       "    </tr>\n",
       "  </thead>\n",
       "  <tbody>\n",
       "    <tr>\n",
       "      <th>0</th>\n",
       "      <td>c-8</td>\n",
       "      <td>c-21</td>\n",
       "      <td>c-7</td>\n",
       "      <td>1934</td>\n",
       "      <td>AA</td>\n",
       "      <td>ATL</td>\n",
       "      <td>DFW</td>\n",
       "      <td>732</td>\n",
       "      <td>N</td>\n",
       "      <td>0</td>\n",
       "      <td>8</td>\n",
       "    </tr>\n",
       "    <tr>\n",
       "      <th>1</th>\n",
       "      <td>c-4</td>\n",
       "      <td>c-20</td>\n",
       "      <td>c-3</td>\n",
       "      <td>1548</td>\n",
       "      <td>US</td>\n",
       "      <td>PIT</td>\n",
       "      <td>MCO</td>\n",
       "      <td>834</td>\n",
       "      <td>N</td>\n",
       "      <td>0</td>\n",
       "      <td>4</td>\n",
       "    </tr>\n",
       "    <tr>\n",
       "      <th>2</th>\n",
       "      <td>c-9</td>\n",
       "      <td>c-2</td>\n",
       "      <td>c-5</td>\n",
       "      <td>1422</td>\n",
       "      <td>XE</td>\n",
       "      <td>RDU</td>\n",
       "      <td>CLE</td>\n",
       "      <td>416</td>\n",
       "      <td>N</td>\n",
       "      <td>0</td>\n",
       "      <td>9</td>\n",
       "    </tr>\n",
       "    <tr>\n",
       "      <th>3</th>\n",
       "      <td>c-11</td>\n",
       "      <td>c-25</td>\n",
       "      <td>c-6</td>\n",
       "      <td>1015</td>\n",
       "      <td>OO</td>\n",
       "      <td>DEN</td>\n",
       "      <td>MEM</td>\n",
       "      <td>872</td>\n",
       "      <td>N</td>\n",
       "      <td>0</td>\n",
       "      <td>11</td>\n",
       "    </tr>\n",
       "    <tr>\n",
       "      <th>4</th>\n",
       "      <td>c-10</td>\n",
       "      <td>c-7</td>\n",
       "      <td>c-6</td>\n",
       "      <td>1828</td>\n",
       "      <td>WN</td>\n",
       "      <td>MDW</td>\n",
       "      <td>OMA</td>\n",
       "      <td>423</td>\n",
       "      <td>Y</td>\n",
       "      <td>1</td>\n",
       "      <td>10</td>\n",
       "    </tr>\n",
       "  </tbody>\n",
       "</table>\n",
       "</div>"
      ],
      "text/plain": [
       "  Month DayofMonth DayOfWeek  DepTime UniqueCarrier Origin Dest  Distance  \\\n",
       "0   c-8       c-21       c-7     1934            AA    ATL  DFW       732   \n",
       "1   c-4       c-20       c-3     1548            US    PIT  MCO       834   \n",
       "2   c-9        c-2       c-5     1422            XE    RDU  CLE       416   \n",
       "3  c-11       c-25       c-6     1015            OO    DEN  MEM       872   \n",
       "4  c-10        c-7       c-6     1828            WN    MDW  OMA       423   \n",
       "\n",
       "  dep_delayed_15min  delay month  \n",
       "0                 N      0     8  \n",
       "1                 N      0     4  \n",
       "2                 N      0     9  \n",
       "3                 N      0    11  \n",
       "4                 Y      1    10  "
      ]
     },
     "execution_count": 42,
     "metadata": {},
     "output_type": "execute_result"
    }
   ],
   "source": [
    "data.head()"
   ]
  },
  {
   "cell_type": "code",
   "execution_count": 43,
   "metadata": {},
   "outputs": [],
   "source": [
    "delay_season = np.zeros(4)"
   ]
  },
  {
   "cell_type": "code",
   "execution_count": 44,
   "metadata": {},
   "outputs": [],
   "source": [
    "for i in range(100000):\n",
    "    if (data['month'].iloc[i] == '12' or data['month'].iloc[i] == '1' or data['month'].iloc[i] == '2') and (data['delay'].iloc[i] == 1):\n",
    "        delay_season[0] += 1\n",
    "    if (data['month'].iloc[i] == '3' or data['month'].iloc[i] == '4' or data['month'].iloc[i] == '5') and (data['delay'].iloc[i] == 1):\n",
    "        delay_season[1] += 1\n",
    "    if (data['month'].iloc[i] == '6' or data['month'].iloc[i] == '7' or data['month'].iloc[i] == '8') and (data['delay'].iloc[i] == 1):\n",
    "        delay_season[2] += 1\n",
    "    if (data['month'].iloc[i] == '9' or data['month'].iloc[i] == '10' or data['month'].iloc[i] == '11') and (data['delay'].iloc[i] == 1):\n",
    "        delay_season[3] += 1\n",
    "        "
   ]
  },
  {
   "cell_type": "code",
   "execution_count": 45,
   "metadata": {},
   "outputs": [
    {
     "data": {
      "text/plain": [
       "array([4849., 4295., 5723., 4177.])"
      ]
     },
     "execution_count": 45,
     "metadata": {},
     "output_type": "execute_result"
    }
   ],
   "source": [
    "delay_season"
   ]
  },
  {
   "cell_type": "markdown",
   "metadata": {},
   "source": [
    "Задержки по сезонам года"
   ]
  },
  {
   "cell_type": "code",
   "execution_count": 46,
   "metadata": {},
   "outputs": [
    {
     "name": "stdout",
     "output_type": "stream",
     "text": [
      "Количество задержек зимой\n",
      "4849.0\n",
      "Количество задержек весной\n",
      "4295.0\n",
      "Количество задержек летом\n",
      "5723.0\n",
      "Количество задержек осенью\n",
      "4177.0\n"
     ]
    }
   ],
   "source": [
    "print(\"Количество задержек зимой\")\n",
    "print(delay_season[0])\n",
    "print(\"Количество задержек весной\")\n",
    "print(delay_season[1])\n",
    "print(\"Количество задержек летом\")\n",
    "print(delay_season[2])\n",
    "print(\"Количество задержек осенью\")\n",
    "print(delay_season[3])"
   ]
  },
  {
   "cell_type": "markdown",
   "metadata": {},
   "source": [
    "Таким образом, больше всего задержек летом"
   ]
  },
  {
   "cell_type": "code",
   "execution_count": 47,
   "metadata": {},
   "outputs": [
    {
     "data": {
      "text/html": [
       "<div>\n",
       "<style scoped>\n",
       "    .dataframe tbody tr th:only-of-type {\n",
       "        vertical-align: middle;\n",
       "    }\n",
       "\n",
       "    .dataframe tbody tr th {\n",
       "        vertical-align: top;\n",
       "    }\n",
       "\n",
       "    .dataframe thead th {\n",
       "        text-align: right;\n",
       "    }\n",
       "</style>\n",
       "<table border=\"1\" class=\"dataframe\">\n",
       "  <thead>\n",
       "    <tr style=\"text-align: right;\">\n",
       "      <th></th>\n",
       "      <th>Month</th>\n",
       "      <th>DayofMonth</th>\n",
       "      <th>DayOfWeek</th>\n",
       "      <th>DepTime</th>\n",
       "      <th>UniqueCarrier</th>\n",
       "      <th>Origin</th>\n",
       "      <th>Dest</th>\n",
       "      <th>Distance</th>\n",
       "      <th>dep_delayed_15min</th>\n",
       "      <th>delay</th>\n",
       "      <th>month</th>\n",
       "    </tr>\n",
       "  </thead>\n",
       "  <tbody>\n",
       "    <tr>\n",
       "      <th>0</th>\n",
       "      <td>c-8</td>\n",
       "      <td>c-21</td>\n",
       "      <td>c-7</td>\n",
       "      <td>1934</td>\n",
       "      <td>AA</td>\n",
       "      <td>ATL</td>\n",
       "      <td>DFW</td>\n",
       "      <td>732</td>\n",
       "      <td>N</td>\n",
       "      <td>0</td>\n",
       "      <td>8</td>\n",
       "    </tr>\n",
       "    <tr>\n",
       "      <th>1</th>\n",
       "      <td>c-4</td>\n",
       "      <td>c-20</td>\n",
       "      <td>c-3</td>\n",
       "      <td>1548</td>\n",
       "      <td>US</td>\n",
       "      <td>PIT</td>\n",
       "      <td>MCO</td>\n",
       "      <td>834</td>\n",
       "      <td>N</td>\n",
       "      <td>0</td>\n",
       "      <td>4</td>\n",
       "    </tr>\n",
       "    <tr>\n",
       "      <th>2</th>\n",
       "      <td>c-9</td>\n",
       "      <td>c-2</td>\n",
       "      <td>c-5</td>\n",
       "      <td>1422</td>\n",
       "      <td>XE</td>\n",
       "      <td>RDU</td>\n",
       "      <td>CLE</td>\n",
       "      <td>416</td>\n",
       "      <td>N</td>\n",
       "      <td>0</td>\n",
       "      <td>9</td>\n",
       "    </tr>\n",
       "    <tr>\n",
       "      <th>3</th>\n",
       "      <td>c-11</td>\n",
       "      <td>c-25</td>\n",
       "      <td>c-6</td>\n",
       "      <td>1015</td>\n",
       "      <td>OO</td>\n",
       "      <td>DEN</td>\n",
       "      <td>MEM</td>\n",
       "      <td>872</td>\n",
       "      <td>N</td>\n",
       "      <td>0</td>\n",
       "      <td>11</td>\n",
       "    </tr>\n",
       "    <tr>\n",
       "      <th>4</th>\n",
       "      <td>c-10</td>\n",
       "      <td>c-7</td>\n",
       "      <td>c-6</td>\n",
       "      <td>1828</td>\n",
       "      <td>WN</td>\n",
       "      <td>MDW</td>\n",
       "      <td>OMA</td>\n",
       "      <td>423</td>\n",
       "      <td>Y</td>\n",
       "      <td>1</td>\n",
       "      <td>10</td>\n",
       "    </tr>\n",
       "  </tbody>\n",
       "</table>\n",
       "</div>"
      ],
      "text/plain": [
       "  Month DayofMonth DayOfWeek  DepTime UniqueCarrier Origin Dest  Distance  \\\n",
       "0   c-8       c-21       c-7     1934            AA    ATL  DFW       732   \n",
       "1   c-4       c-20       c-3     1548            US    PIT  MCO       834   \n",
       "2   c-9        c-2       c-5     1422            XE    RDU  CLE       416   \n",
       "3  c-11       c-25       c-6     1015            OO    DEN  MEM       872   \n",
       "4  c-10        c-7       c-6     1828            WN    MDW  OMA       423   \n",
       "\n",
       "  dep_delayed_15min  delay month  \n",
       "0                 N      0     8  \n",
       "1                 N      0     4  \n",
       "2                 N      0     9  \n",
       "3                 N      0    11  \n",
       "4                 Y      1    10  "
      ]
     },
     "execution_count": 47,
     "metadata": {},
     "output_type": "execute_result"
    }
   ],
   "source": [
    "data.head()"
   ]
  },
  {
   "cell_type": "code",
   "execution_count": 48,
   "metadata": {},
   "outputs": [],
   "source": [
    "delay = list(data['delay'])\n",
    "dist_s = set(data['Distance'])\n",
    "dist_set = list(dist_s)\n",
    "dist = list(data['Distance'])"
   ]
  },
  {
   "cell_type": "code",
   "execution_count": 49,
   "metadata": {},
   "outputs": [],
   "source": [
    "delay_distance = []\n",
    "s = 0\n",
    "for d in dist_set:\n",
    "    for i in range(100000):\n",
    "        if dist[i] == d:\n",
    "            s = s + delay[i]\n",
    "    delay_distance.append(s)\n",
    "    s = 0"
   ]
  },
  {
   "cell_type": "code",
   "execution_count": 50,
   "metadata": {},
   "outputs": [
    {
     "data": {
      "image/png": "[encoded data removed]",
      "text/plain": [
       "<Figure size 432x288 with 1 Axes>"
      ]
     },
     "metadata": {
      "needs_background": "light"
     },
     "output_type": "display_data"
    }
   ],
   "source": [
    "plt.plot(dist_set, delay_distance)\n",
    "plt.title('Зависимость количества задержек от дистанции полета')\n",
    "plt.xlabel('Дистанция полета')\n",
    "plt.ylabel('Количество задержек')\n",
    "plt.show()"
   ]
  },
  {
   "cell_type": "code",
   "execution_count": null,
   "metadata": {},
   "outputs": [],
   "source": []
  }
 ],
 "metadata": {
  "kernelspec": {
   "display_name": "Python 3",
   "language": "python",
   "name": "python3"
  },
  "language_info": {
   "codemirror_mode": {
    "name": "ipython",
    "version": 3
   },
   "file_extension": ".py",
   "mimetype": "text/x-python",
   "name": "python",
   "nbconvert_exporter": "python",
   "pygments_lexer": "ipython3",
   "version": "3.7.1"
  }
 },
 "nbformat": 4,
 "nbformat_minor": 2
}
