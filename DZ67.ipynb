{
 "cells": [
  {
   "cell_type": "markdown",
   "metadata": {},
   "source": [
    "# Задача 1\n",
    "\n",
    "Реализуйте свой класс Complex для комплексных чисел, аналогично встроенной реализации complex: 1. Добавьте конструктор класса 2. Реализуйте операции проверки на равенство, сложения, вычитания, произведения и деления комплексных чисел (eq, add, sub, mul, truediv) 3. Реализуйте операцию модуля (abs, вызываемую как |c|) 4. Оба класса должны давать осмысленный вывод как при print, так и просто при вызове в ячейке\n",
    "\n",
    "p.s. обязательно использовать магические методы (см лабу)"
   ]
  },
  {
   "cell_type": "code",
   "execution_count": 5,
   "metadata": {},
   "outputs": [],
   "source": [
    "#вводим комлексное число в виде (x,y)\n",
    "class compl():\n",
    "    def __init__(self, x = 0, y = 0):\n",
    "        self.x = x\n",
    "        self.y = y\n",
    "    def __eq__(self, other):\n",
    "        if (self.x == other.x)&(self.y == other.y):\n",
    "          return True\n",
    "        else:\n",
    "          return False\n",
    "    def __add__(self, other):\n",
    "        return compl(self.x + other.x, self.y + other.y)\n",
    "    def __sub__(self, other):\n",
    "        return compl(self.x - other.x, self.y - other.y)\n",
    "    def __mul__(self, other):\n",
    "        return compl(self.x*other.x - self.y*other.y, self.x*other.y + other.x*self.y)\n",
    "    def __truediv__(self, other):\n",
    "        return compl((self.x*other.x + self.y*other.y)/(other.x**2 + other.y**2), (self.y*other.x - self.x*other.y)/(other.x**2 + other.y**2))\n",
    "\n",
    "    def __repr__(self):\n",
    "        return '{} + i*{}'.format(self.x,self.y)\n",
    "    def __str__(self):\n",
    "        return '{} + i*{}'.format(self.x,self.y)\n",
    "    \n",
    "    \n"
   ]
  },
  {
   "cell_type": "code",
   "execution_count": 8,
   "metadata": {},
   "outputs": [
    {
     "name": "stdout",
     "output_type": "stream",
     "text": [
      "1 + i*1\n"
     ]
    },
    {
     "data": {
      "text/plain": [
       "1 + i*5"
      ]
     },
     "execution_count": 8,
     "metadata": {},
     "output_type": "execute_result"
    }
   ],
   "source": [
    "print(compl(1,1))\n",
    "compl(1,5)"
   ]
  },
  {
   "cell_type": "code",
   "execution_count": 10,
   "metadata": {},
   "outputs": [
    {
     "name": "stdout",
     "output_type": "stream",
     "text": [
      "False\n",
      "4 + i*7\n",
      "-2 + i*-3\n",
      "-7 + i*11\n",
      "0.38235294117647056 + i*0.029411764705882353\n"
     ]
    }
   ],
   "source": [
    "A = compl(1, 2)\n",
    "B = compl(3, 5)\n",
    "print(A == B)\n",
    "C = A+B\n",
    "D = A-B\n",
    "F = A*B\n",
    "E = A/B\n",
    "\n",
    "print(C)\n",
    "print(D)\n",
    "print(F)\n",
    "print(E)"
   ]
  },
  {
   "cell_type": "markdown",
   "metadata": {},
   "source": [
    "# Задача 2\n",
    "\n",
    "Реализуйте свой класс 2-мерных векторов (похожа на задачу 1):\n",
    "- 1. Добавьте конструктор класса\n",
    "- 2. Реализуйте операции проверки на равенство векторов, сложения , вычитания, произведение вектора на число.\n",
    "- 3. Реализуйте операцию модуля (abs, вызываемую как |c|)\n",
    "- 4. Оба класса должны давать осмысленный вывод как при print, так и просто при вызове в ячейке"
   ]
  },
  {
   "cell_type": "code",
   "execution_count": 1,
   "metadata": {},
   "outputs": [],
   "source": [
    "class v2():\n",
    "    def __init__(self, x = 0, y = 0):\n",
    "        self.x = x\n",
    "        self.y = y\n",
    "    \n",
    "    def __eq__(self, other):\n",
    "        if (self.x == other.x)&(self.y == other.y):\n",
    "          return True\n",
    "        else:\n",
    "          return False\n",
    "    \n",
    "    def __add__(self, other):\n",
    "        return v2(self.x + other.x, self.y + other.y)\n",
    "    \n",
    "    def __sub__(self, other):\n",
    "        return v2(self.x - other.x, self.y - other.y)\n",
    "    \n",
    "    def __mul__(self, k):\n",
    "        result = list()\n",
    "        result.append(self.x*k)\n",
    "        result.append(self.y*k)\n",
    "        return v2(*result)\n",
    "    \n",
    "    def __rmul__(self, num):\n",
    "        return self.__mul__(num)\n",
    "    \n",
    "    def __abs__(self):\n",
    "        return (self.x**2 + self.y**2)**0.5\n",
    "    \n",
    "    def __repr__(self):\n",
    "        return '({},{})'.format(self.x,self.y)\n",
    "    \n",
    "    def __str__(self):\n",
    "        return '({},{})'.format(self.x,self.y)"
   ]
  },
  {
   "cell_type": "code",
   "execution_count": 4,
   "metadata": {},
   "outputs": [
    {
     "name": "stdout",
     "output_type": "stream",
     "text": [
      "(10,5)\n",
      "(10,5)\n"
     ]
    }
   ],
   "source": [
    "l = a * 5\n",
    "f = 5 * a\n",
    "print(l)\n",
    "print(f)"
   ]
  },
  {
   "cell_type": "code",
   "execution_count": 2,
   "metadata": {},
   "outputs": [],
   "source": [
    "a = v2(2,1)\n",
    "b = v2(5,3)"
   ]
  },
  {
   "cell_type": "code",
   "execution_count": 49,
   "metadata": {
    "scrolled": true
   },
   "outputs": [
    {
     "data": {
      "text/plain": [
       "(2,1)"
      ]
     },
     "execution_count": 49,
     "metadata": {},
     "output_type": "execute_result"
    }
   ],
   "source": [
    "v2(2,1)\n"
   ]
  },
  {
   "cell_type": "code",
   "execution_count": 17,
   "metadata": {},
   "outputs": [
    {
     "data": {
      "text/plain": [
       "(2,1)"
      ]
     },
     "execution_count": 17,
     "metadata": {},
     "output_type": "execute_result"
    }
   ],
   "source": [
    "a"
   ]
  },
  {
   "cell_type": "code",
   "execution_count": 54,
   "metadata": {},
   "outputs": [
    {
     "name": "stdout",
     "output_type": "stream",
     "text": [
      "False\n",
      "(7,4)\n",
      "(-3,-2)\n",
      "2.23606797749979\n"
     ]
    }
   ],
   "source": [
    "c = a+b\n",
    "e = a-b\n",
    "m = abs(a)\n",
    "print(a == b)\n",
    "print(c)\n",
    "print(e)\n",
    "print(m)"
   ]
  },
  {
   "cell_type": "markdown",
   "metadata": {},
   "source": [
    "# Задача 3\n",
    "\n",
    "Аналогично задаче 2 написать класс 3хмерных векторов."
   ]
  },
  {
   "cell_type": "code",
   "execution_count": 15,
   "metadata": {},
   "outputs": [],
   "source": [
    "class v3():\n",
    "    def __init__(self, x = 0, y = 0, z = 0):\n",
    "        self.x = x\n",
    "        self.y = y\n",
    "        self.z = z\n",
    "    \n",
    "    def __eq__(self, other):\n",
    "        if (self.x == other.x)&(self.y == other.y)&(self.z == other.z):\n",
    "          return True\n",
    "        else:\n",
    "          return False\n",
    "    \n",
    "    def __add__(self, other):\n",
    "        return v3(self.x + other.x, self.y + other.y, self.z + other.z)\n",
    "    \n",
    "    def __sub__(self, other):\n",
    "        return v3(self.x - other.x, self.y - other.y, self.z - other.z)\n",
    "    \n",
    "    def __mul__(self, k):\n",
    "        return v3(self.x*k, self.y*k, self.z*k)\n",
    "    \n",
    "    def __rmul__(self, num):\n",
    "        return self.__mul__(num)\n",
    "    \n",
    "    def __abs__(self):\n",
    "        return (self.x**2 + self.y**2 + self.z**2)**0.5\n",
    "    \n",
    "    def __repr__(self):\n",
    "        return '({},{},{})'.format(self.x,self.y, self.z)\n",
    "    \n",
    "    def __str__(self):\n",
    "        return '({},{},{})'.format(self.x,self.y, self.z)"
   ]
  },
  {
   "cell_type": "code",
   "execution_count": 16,
   "metadata": {},
   "outputs": [],
   "source": [
    "u = v3(1,2,3)\n",
    "q = v3(5,7,9)"
   ]
  },
  {
   "cell_type": "code",
   "execution_count": 20,
   "metadata": {},
   "outputs": [
    {
     "data": {
      "text/plain": [
       "(1,2,3)"
      ]
     },
     "execution_count": 20,
     "metadata": {},
     "output_type": "execute_result"
    }
   ],
   "source": [
    "u\n"
   ]
  },
  {
   "cell_type": "code",
   "execution_count": 21,
   "metadata": {},
   "outputs": [
    {
     "name": "stdout",
     "output_type": "stream",
     "text": [
      "(1,2,3)\n"
     ]
    }
   ],
   "source": [
    "print(u)"
   ]
  },
  {
   "cell_type": "code",
   "execution_count": 23,
   "metadata": {},
   "outputs": [
    {
     "name": "stdout",
     "output_type": "stream",
     "text": [
      "(6,9,12)\n",
      "(-4,-5,-6)\n",
      "(5,10,15)\n",
      "(5,10,15)\n"
     ]
    }
   ],
   "source": [
    "print(u + q)\n",
    "print(u - q)\n",
    "print(u*5)\n",
    "print(5*u)"
   ]
  },
  {
   "cell_type": "code",
   "execution_count": 24,
   "metadata": {},
   "outputs": [
    {
     "data": {
      "text/plain": [
       "3.7416573867739413"
      ]
     },
     "execution_count": 24,
     "metadata": {},
     "output_type": "execute_result"
    }
   ],
   "source": [
    "abs(u)"
   ]
  },
  {
   "cell_type": "markdown",
   "metadata": {},
   "source": [
    "# Задача 4\n",
    "\n",
    "Аналогично задачам 2 и 3 написать класс N-мерных (n вводится при создании экземпляра класса) векторов."
   ]
  },
  {
   "cell_type": "code",
   "execution_count": 10,
   "metadata": {},
   "outputs": [],
   "source": [
    "class vNd():\n",
    "    \n",
    "    def __init__(self, *coord):\n",
    "        assert(len(coord)!=0)\n",
    "        self.__coords = list()\n",
    "        for i in coord:\n",
    "            self.__coords.append(i)\n",
    "            \n",
    "    def __len__(self):\n",
    "        return(len(self.__coords))\n",
    "    \n",
    "    def __eq__(self, other):\n",
    "        assert(len(self)==len(other))\n",
    "        flag = True\n",
    "        for i in range(len(self.__coords)):\n",
    "                if self.__coords[i] != other.__coords[i]:\n",
    "                    flag = False\n",
    "        if flag == True:\n",
    "            return True\n",
    "        else:\n",
    "            return False\n",
    "    \n",
    "    def __add__(self, other):\n",
    "        assert(len(self)==len(other))\n",
    "        result = list()\n",
    "        for i in range(len(self.__coords)):\n",
    "            result.append(self.__coords[i]+other.__coords[i])\n",
    "        return vNd(*result)\n",
    "   \n",
    "    def __mul__(self, k):\n",
    "        result = list()\n",
    "        for i in range(len(self.__coords)):\n",
    "            result.append(self.__coords[i]*k)\n",
    "        return vNd(*result)\n",
    "    \n",
    "    def __rmul__(self, num):\n",
    "        return self.__mul__(num)\n",
    " \n",
    "    \n",
    "    def print(self):\n",
    "        print(self.__coords)\n",
    "    \n",
    "       \n",
    "    def __sub__(self,other):\n",
    "        assert(len(self)==len(other))\n",
    "        result = list()\n",
    "        for i in range(len(self.__coords)):\n",
    "            result.append(self.__coords[i]-other.__coords[i])\n",
    "        return vNd(*result)\n",
    "\n",
    "    def __truediv__(self, a:float):\n",
    "        assert(len(self)==len(other))\n",
    "        result = list()\n",
    "        for i in range(len(self.__coords)):\n",
    "            result.append(self.__coords[i]/a)\n",
    "        return vNd(*result)\n",
    "  \n",
    "    \n",
    "        \n",
    "    def __repr__(self):\n",
    "        return (' '.join(map(str,self.__coords)))\n",
    "    \n",
    "    def __abs__(self):\n",
    "        res = 0\n",
    "        for i in range(len(self.__coords)):\n",
    "            res+= self.__coords[i]**2\n",
    "        return res**(1/2)"
   ]
  },
  {
   "cell_type": "code",
   "execution_count": 11,
   "metadata": {},
   "outputs": [],
   "source": [
    "C = vNd(1,2,4,5)\n",
    "A = vNd(1,2,4,5)\n",
    "D = vNd(4,6,3,1)"
   ]
  },
  {
   "cell_type": "code",
   "execution_count": 12,
   "metadata": {},
   "outputs": [
    {
     "data": {
      "text/plain": [
       "1 2 4 5"
      ]
     },
     "execution_count": 12,
     "metadata": {},
     "output_type": "execute_result"
    }
   ],
   "source": [
    "C\n"
   ]
  },
  {
   "cell_type": "code",
   "execution_count": 13,
   "metadata": {},
   "outputs": [
    {
     "name": "stdout",
     "output_type": "stream",
     "text": [
      "2 4 8 10\n",
      "0 0 0 0\n"
     ]
    }
   ],
   "source": [
    "print(C+A)\n",
    "print(C-A)"
   ]
  },
  {
   "cell_type": "code",
   "execution_count": 8,
   "metadata": {},
   "outputs": [
    {
     "name": "stdout",
     "output_type": "stream",
     "text": [
      "5 10 20 25\n",
      "5 10 20 25\n"
     ]
    }
   ],
   "source": [
    "B = C*5\n",
    "L = 5*C\n",
    "print(B)\n",
    "print(L)"
   ]
  },
  {
   "cell_type": "code",
   "execution_count": 12,
   "metadata": {},
   "outputs": [
    {
     "name": "stdout",
     "output_type": "stream",
     "text": [
      "True\n",
      "False\n"
     ]
    }
   ],
   "source": [
    "print(C == A)\n",
    "print(A == B)"
   ]
  },
  {
   "cell_type": "code",
   "execution_count": 10,
   "metadata": {},
   "outputs": [
    {
     "name": "stdout",
     "output_type": "stream",
     "text": [
      "6.782329983125268\n"
     ]
    }
   ],
   "source": [
    "print(abs(A))"
   ]
  },
  {
   "cell_type": "markdown",
   "metadata": {},
   "source": [
    "# Задача 5 =  задача 2 из лабы про ООП\n",
    "\n",
    "Вам на вход приходит последовательность целых чисел. Вам надо обрабатывать ее следующим образом: выводить на экран сумму первых пяти чисел этой последовательности, затем следующих 5 итд\n",
    "\n",
    "Но последовательность не дается вам сразу целиком. С течением времени к вам поступают её последовательные части. Например, сначала первые три элемента, потом следующие шесть, потом следующие два и т. д.\n",
    "\n",
    "Реализуйте класс Buffer, который будет накапливать в себе элементы последовательности и выводить сумму пятерок последовательных элементов по мере их накопления.\n",
    "\n",
    "Одним из требований к классу является то, что он не должен хранить в себе больше элементов, чем ему действительно необходимо, т. е. он не должен хранить элементы, которые уже вошли в пятерку, для которой была выведена сумма.\n",
    "\n",
    "Класс должен иметь следующий вид"
   ]
  },
  {
   "cell_type": "code",
   "execution_count": 26,
   "metadata": {},
   "outputs": [],
   "source": [
    "class Buffer:\n",
    "    def __init__(self):\n",
    "        self.data = [0 for i in range(5)]\n",
    "\n",
    "    def app(self, x):\n",
    "        for i in range(5):\n",
    "            if self.data[i]==0:\n",
    "                if len(x) != 0:\n",
    "                    self.data[i] = x.pop(0)\n",
    "        flag = 1\n",
    "        for i in range(5):\n",
    "            if self.data[i] == 0:\n",
    "                flag = 0\n",
    "        if flag == 1:\n",
    "            print(sum(self.data))\n",
    "            for i in range(5):\n",
    "                self.data[i] = 0\n",
    "       \n",
    "    def __repr__(self):\n",
    "        return (' '.join(map(str,self.data)))"
   ]
  },
  {
   "cell_type": "code",
   "execution_count": 28,
   "metadata": {},
   "outputs": [],
   "source": [
    "buf = Buffer()\n"
   ]
  },
  {
   "cell_type": "code",
   "execution_count": 29,
   "metadata": {},
   "outputs": [],
   "source": [
    "a = list()"
   ]
  },
  {
   "cell_type": "code",
   "execution_count": 30,
   "metadata": {},
   "outputs": [],
   "source": [
    "a.append(4)\n",
    "a.append(1)\n",
    "a.append(2)"
   ]
  },
  {
   "cell_type": "code",
   "execution_count": 37,
   "metadata": {},
   "outputs": [],
   "source": [
    "buf.app(a)"
   ]
  },
  {
   "cell_type": "code",
   "execution_count": 32,
   "metadata": {},
   "outputs": [
    {
     "data": {
      "text/plain": [
       "4 1 2 0 0"
      ]
     },
     "execution_count": 32,
     "metadata": {},
     "output_type": "execute_result"
    }
   ],
   "source": [
    "buf"
   ]
  },
  {
   "cell_type": "code",
   "execution_count": 40,
   "metadata": {},
   "outputs": [],
   "source": [
    "a.append(5)\n",
    "a.append(7)\n",
    "a.append(42)"
   ]
  },
  {
   "cell_type": "code",
   "execution_count": 41,
   "metadata": {},
   "outputs": [
    {
     "name": "stdout",
     "output_type": "stream",
     "text": [
      "19\n"
     ]
    }
   ],
   "source": [
    "buf.app(a)"
   ]
  },
  {
   "cell_type": "code",
   "execution_count": 42,
   "metadata": {},
   "outputs": [
    {
     "data": {
      "text/plain": [
       "0 0 0 0 0"
      ]
     },
     "execution_count": 42,
     "metadata": {},
     "output_type": "execute_result"
    }
   ],
   "source": [
    "buf"
   ]
  },
  {
   "cell_type": "code",
   "execution_count": 43,
   "metadata": {},
   "outputs": [
    {
     "data": {
      "text/plain": [
       "[42]"
      ]
     },
     "execution_count": 43,
     "metadata": {},
     "output_type": "execute_result"
    }
   ],
   "source": [
    "a"
   ]
  },
  {
   "cell_type": "markdown",
   "metadata": {},
   "source": [
    "# Задача 6 = задача 3 из лабы про ООП\n",
    "\n",
    "Создайте правильные цепочки наследования классов для: Животное, собака, щенок, самолет, компьютер, имеющее лапы, летающее, орел, белка-летяга, разумное, человек, медуза, одуванчик.\n",
    "В эти классы добавьте конструкторы, а также методы для следующих действий (где надо): полаять, родить, сложить два числа, ужалить, подумать, взлететь, пустить корни, поесть, взять, а также следующие поля: возраст, латинское название (или модель). Прокомментируйте вашу логику"
   ]
  },
  {
   "cell_type": "markdown",
   "metadata": {},
   "source": [
    "добавлен новый файл DZ5(с задачей из DZ67, добавлена атака и дебаф).ipynb16.9"
   ]
  },
  {
   "cell_type": "markdown",
   "metadata": {},
   "source": [
    "# Задача 7\n",
    "\n",
    "\n",
    "Добавить в ДЗ5 методы атаки персонажей. Продемонстрировать, что при атаке первого персонажа, у 2ого отнимается здоровье, а у первого расходуется мана или накапливается усталость.\n",
    "\n",
    "Добавить в ДЗ5 методы дебафа. Чтобы персонажи могли замедлять скорость перемещения друг друга. (например, если дефолтное скорость персонажа 2 м/с или 2 клетки за шаг, то после дебафа - 1м/с или 1 клетка за шаг). Помните, что дебаф действует некоторое время (несколько секунд или несколько шагов - зависит от концепции вашей игры (пошаговая стратегия или онлайн)\n"
   ]
  },
  {
   "cell_type": "markdown",
   "metadata": {},
   "source": [
    "# Задача 8 (Генетический алгоритм)\n",
    "\n",
    "Создать класс клетки с данными ДНК - последовательность символов. Клетка должна уметь делиться (написать метод класса). Реализовать процесс деления так, чтобы он отражал биологический процесс. Как делать - решать вам."
   ]
  },
  {
   "cell_type": "code",
   "execution_count": null,
   "metadata": {},
   "outputs": [],
   "source": []
  },
  {
   "cell_type": "code",
   "execution_count": null,
   "metadata": {},
   "outputs": [],
   "source": []
  },
  {
   "cell_type": "markdown",
   "metadata": {},
   "source": [
    "Удачи! Дедлайн по ДЗ67 - до след выходных включительно, 27.10.2019 (23:59)\n",
    "Выкладывайте решение на гитхаб, присылайте письмо со ссылкой на почту. Как всегда крч."
   ]
  },
  {
   "cell_type": "code",
   "execution_count": null,
   "metadata": {},
   "outputs": [],
   "source": []
  }
 ],
 "metadata": {
  "kernelspec": {
   "display_name": "Python 3",
   "language": "python",
   "name": "python3"
  },
  "language_info": {
   "codemirror_mode": {
    "name": "ipython",
    "version": 3
   },
   "file_extension": ".py",
   "mimetype": "text/x-python",
   "name": "python",
   "nbconvert_exporter": "python",
   "pygments_lexer": "ipython3",
   "version": "3.7.1"
  }
 },
 "nbformat": 4,
 "nbformat_minor": 2
}
